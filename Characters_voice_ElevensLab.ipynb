{
  "nbformat": 4,
  "nbformat_minor": 0,
  "metadata": {
    "colab": {
      "provenance": [],
      "authorship_tag": "ABX9TyND+dXFqyU0UMDbex3uzWAk",
      "include_colab_link": true
    },
    "kernelspec": {
      "name": "python3",
      "display_name": "Python 3"
    },
    "language_info": {
      "name": "python"
    }
  },
  "cells": [
    {
      "cell_type": "markdown",
      "metadata": {
        "id": "view-in-github",
        "colab_type": "text"
      },
      "source": [
        "<a href=\"https://colab.research.google.com/github/venturaEffect/Elevenlabs/blob/main/Characters_voice_ElevensLab.ipynb\" target=\"_parent\"><img src=\"https://colab.research.google.com/assets/colab-badge.svg\" alt=\"Open In Colab\"/></a>"
      ]
    },
    {
      "cell_type": "code",
      "source": [
        "!pip install elevenlabs"
      ],
      "metadata": {
        "colab": {
          "base_uri": "https://localhost:8080/"
        },
        "id": "XW9NSdWcAHag",
        "outputId": "ff14aeb4-b877-4693-bec3-1c60606a4f2d"
      },
      "execution_count": 1,
      "outputs": [
        {
          "output_type": "stream",
          "name": "stdout",
          "text": [
            "Looking in indexes: https://pypi.org/simple, https://us-python.pkg.dev/colab-wheels/public/simple/\n",
            "Collecting elevenlabs\n",
            "  Downloading elevenlabs-0.2.12-py3-none-any.whl (9.3 kB)\n",
            "Requirement already satisfied: pydantic>=1.10 in /usr/local/lib/python3.10/dist-packages (from elevenlabs) (1.10.7)\n",
            "Requirement already satisfied: ipython>=7.0 in /usr/local/lib/python3.10/dist-packages (from elevenlabs) (7.34.0)\n",
            "Requirement already satisfied: requests>=2.20 in /usr/local/lib/python3.10/dist-packages (from elevenlabs) (2.27.1)\n",
            "Requirement already satisfied: setuptools>=18.5 in /usr/local/lib/python3.10/dist-packages (from ipython>=7.0->elevenlabs) (67.7.2)\n",
            "Collecting jedi>=0.16 (from ipython>=7.0->elevenlabs)\n",
            "  Downloading jedi-0.18.2-py2.py3-none-any.whl (1.6 MB)\n",
            "\u001b[2K     \u001b[90m━━━━━━━━━━━━━━━━━━━━━━━━━━━━━━━━━━━━━━━━\u001b[0m \u001b[32m1.6/1.6 MB\u001b[0m \u001b[31m10.2 MB/s\u001b[0m eta \u001b[36m0:00:00\u001b[0m\n",
            "\u001b[?25hRequirement already satisfied: decorator in /usr/local/lib/python3.10/dist-packages (from ipython>=7.0->elevenlabs) (4.4.2)\n",
            "Requirement already satisfied: pickleshare in /usr/local/lib/python3.10/dist-packages (from ipython>=7.0->elevenlabs) (0.7.5)\n",
            "Requirement already satisfied: traitlets>=4.2 in /usr/local/lib/python3.10/dist-packages (from ipython>=7.0->elevenlabs) (5.7.1)\n",
            "Requirement already satisfied: prompt-toolkit!=3.0.0,!=3.0.1,<3.1.0,>=2.0.0 in /usr/local/lib/python3.10/dist-packages (from ipython>=7.0->elevenlabs) (3.0.38)\n",
            "Requirement already satisfied: pygments in /usr/local/lib/python3.10/dist-packages (from ipython>=7.0->elevenlabs) (2.14.0)\n",
            "Requirement already satisfied: backcall in /usr/local/lib/python3.10/dist-packages (from ipython>=7.0->elevenlabs) (0.2.0)\n",
            "Requirement already satisfied: matplotlib-inline in /usr/local/lib/python3.10/dist-packages (from ipython>=7.0->elevenlabs) (0.1.6)\n",
            "Requirement already satisfied: pexpect>4.3 in /usr/local/lib/python3.10/dist-packages (from ipython>=7.0->elevenlabs) (4.8.0)\n",
            "Requirement already satisfied: typing-extensions>=4.2.0 in /usr/local/lib/python3.10/dist-packages (from pydantic>=1.10->elevenlabs) (4.5.0)\n",
            "Requirement already satisfied: urllib3<1.27,>=1.21.1 in /usr/local/lib/python3.10/dist-packages (from requests>=2.20->elevenlabs) (1.26.15)\n",
            "Requirement already satisfied: certifi>=2017.4.17 in /usr/local/lib/python3.10/dist-packages (from requests>=2.20->elevenlabs) (2022.12.7)\n",
            "Requirement already satisfied: charset-normalizer~=2.0.0 in /usr/local/lib/python3.10/dist-packages (from requests>=2.20->elevenlabs) (2.0.12)\n",
            "Requirement already satisfied: idna<4,>=2.5 in /usr/local/lib/python3.10/dist-packages (from requests>=2.20->elevenlabs) (3.4)\n",
            "Requirement already satisfied: parso<0.9.0,>=0.8.0 in /usr/local/lib/python3.10/dist-packages (from jedi>=0.16->ipython>=7.0->elevenlabs) (0.8.3)\n",
            "Requirement already satisfied: ptyprocess>=0.5 in /usr/local/lib/python3.10/dist-packages (from pexpect>4.3->ipython>=7.0->elevenlabs) (0.7.0)\n",
            "Requirement already satisfied: wcwidth in /usr/local/lib/python3.10/dist-packages (from prompt-toolkit!=3.0.0,!=3.0.1,<3.1.0,>=2.0.0->ipython>=7.0->elevenlabs) (0.2.6)\n",
            "Installing collected packages: jedi, elevenlabs\n",
            "Successfully installed elevenlabs-0.2.12 jedi-0.18.2\n"
          ]
        }
      ]
    },
    {
      "cell_type": "markdown",
      "source": [
        "First create a folder called \"characters-voices\" inside MyDrive (your Google Drive main folder).\n",
        "\n",
        "Put on the folder \"characters-voices\" some audio files of the different voices for your characters. Name each audio with the name of the character"
      ],
      "metadata": {
        "id": "o8cR6Z8K3dZQ"
      }
    },
    {
      "cell_type": "code",
      "execution_count": null,
      "metadata": {
        "id": "wZtNjNzXY25F"
      },
      "outputs": [],
      "source": [
        "import requests\n",
        "from google.colab import drive"
      ]
    },
    {
      "cell_type": "markdown",
      "source": [
        "Connect to your Google Drive"
      ],
      "metadata": {
        "id": "5o_Xjx9a4nh6"
      }
    },
    {
      "cell_type": "code",
      "source": [
        "# Mount Google Drive\n",
        "drive.mount('/content/drive')"
      ],
      "metadata": {
        "colab": {
          "base_uri": "https://localhost:8080/"
        },
        "id": "7edrp8HgY9hK",
        "outputId": "63895ccc-6d25-4553-fd1d-296a58cc3a65"
      },
      "execution_count": null,
      "outputs": [
        {
          "output_type": "stream",
          "name": "stdout",
          "text": [
            "Mounted at /content/drive\n"
          ]
        }
      ]
    },
    {
      "cell_type": "code",
      "source": [
        "#@title Enter your Elevenlabs API key look [here](https://docs.elevenlabs.io/authentication/01-xi-api-key) how to. { form-width: \"20px\" }\n",
        "your_api_key = \"\" #@param {type:\"string\"}\n",
        "number_characters = 0 #@param {type:\"number\"}\n"
      ],
      "metadata": {
        "cellView": "form",
        "id": "wnTBwVmqV6SE"
      },
      "execution_count": null,
      "outputs": []
    },
    {
      "cell_type": "code",
      "source": [
        "from elevenlabs import set_api_key, clone\n",
        "\n",
        "set_api_key(your_api_key) # Replace <YOUR_API_KEY> with your actual ElevenLabs API key"
      ],
      "metadata": {
        "id": "nChPAd9Pl_2b"
      },
      "execution_count": null,
      "outputs": []
    },
    {
      "cell_type": "markdown",
      "source": [
        "## **Add the name of the characters of your characters script, the gender and the label (max four).**"
      ],
      "metadata": {
        "id": "q7mSf15Dc_8k"
      }
    },
    {
      "cell_type": "code",
      "source": [
        "#@title Character 1 { form-width: \"20px\" }\n",
        "name_character_1 = \"\" #@param {type:\"string\"}\n",
        "gender_1 = \"male\" #@param [\"male\", \"female\"]\n",
        "description_1 = \"\" #@param {type:\"string\"}\n",
        "accent_1 = \"US\" #@param [\"US\", \"ES\"]\n"
      ],
      "metadata": {
        "cellView": "form",
        "id": "WiNVPdjddK5p"
      },
      "execution_count": null,
      "outputs": []
    },
    {
      "cell_type": "code",
      "source": [
        "file_1 = [\"/content/drive/MyDrive/characters-voices/{name_character_1}.wav\"# List of audio files to use for cloning\n",
        "labels = {\"gender\": gender_1, \"accent\": accent_1} # Optional labels to add to the new voice. CHANGE THEM AS YOU WISH\n",
        "\n",
        "new_voice_1 = clone(name=name_character_1, description=description_1, files=file_1, labels=labels)\n",
        "\n",
        "print(f\"Successfully cloned {name_character_1} voice. New voice ID: {new_voice_1.id}\")"
      ],
      "metadata": {
        "id": "puiBenBklS67"
      },
      "execution_count": null,
      "outputs": []
    },
    {
      "cell_type": "code",
      "source": [
        "#@title Character 2\n",
        "name_character_2 = \"\" #@param {type:\"string\"}\n",
        "gender_2 = \"male\" #@param [\"male\", \"female\"]\n",
        "description_2 = \"\" #@param {type:\"string\"}\n",
        "accent_2 = \"US\" #@param [\"US\", \"ES\"]"
      ],
      "metadata": {
        "cellView": "form",
        "id": "PsOLsCJOduy9"
      },
      "execution_count": null,
      "outputs": []
    },
    {
      "cell_type": "code",
      "source": [
        "file_2 = [\"/content/drive/MyDrive/characters-voices/{name_character_2}.wav\"# List of audio files to use for cloning\n",
        "labels = {\"gender\": gender_2, \"accent\": accent_2} # Optional labels to add to the new voice. CHANGE THEM AS YOU WISH\n",
        "\n",
        "new_voice_2 = clone(name=name_character_2, description=description_2, files=file_2, labels=labels)\n",
        "\n",
        "print(f\"Successfully cloned {name_character_2} voice. New voice ID: {new_voice_2.id}\")"
      ],
      "metadata": {
        "id": "ArKvEdmMlr7T"
      },
      "execution_count": null,
      "outputs": []
    },
    {
      "cell_type": "code",
      "source": [
        "#@title Character 3\n",
        "name_character_3 = \"\" #@param {type:\"string\"}\n",
        "gender_3 = \"male\" #@param [\"male\", \"female\"]\n",
        "description_3 = \"\" #@param {type:\"string\"}\n",
        "accent_3 = \"US\" #@param [\"US\", \"ES\"]"
      ],
      "metadata": {
        "cellView": "form",
        "id": "qJUY4Kg4dzbp"
      },
      "execution_count": null,
      "outputs": []
    },
    {
      "cell_type": "code",
      "source": [
        "file_3 = [\"/content/drive/MyDrive/characters-voices/{name_character_3}.wav\"# List of audio files to use for cloning\n",
        "labels = {\"gender\": gender_3, \"accent\": accent_3} # Optional labels to add to the new voice. CHANGE THEM AS YOU WISH\n",
        "\n",
        "new_voice_3 = clone(name=name_character_3, description=description_3, files=file_3, labels=labels)\n",
        "\n",
        "print(f\"Successfully cloned {name_character_3} voice. New voice ID: {new_voice_3.id}\")"
      ],
      "metadata": {
        "id": "q1GgDrN5mGVo"
      },
      "execution_count": null,
      "outputs": []
    },
    {
      "cell_type": "code",
      "source": [
        "#@title Character 4\n",
        "name_character_4 = \"\" #@param {type:\"string\"}\n",
        "gender_4 = \"male\" #@param [\"male\", \"female\"]\n",
        "description_4 = \"\" #@param {type:\"string\"}\n",
        "accent_4 = \"US\" #@param [\"US\", \"ES\"]"
      ],
      "metadata": {
        "cellView": "form",
        "id": "Kb3d2GrXeE3W"
      },
      "execution_count": null,
      "outputs": []
    },
    {
      "cell_type": "code",
      "source": [
        "file_4 = [\"/content/drive/MyDrive/characters-voices/{name_character_4}.wav\"# List of audio files to use for cloning\n",
        "labels = {\"gender\": gender_4, \"accent\": accent_4} # Optional labels to add to the new voice. CHANGE THEM AS YOU WISH\n",
        "\n",
        "new_voice_4 = clone(name=name_character_4, description=description_4, files=file_4, labels=labels)\n",
        "\n",
        "print(f\"Successfully cloned {name_character_4} voice. New voice ID: {new_voice_4.id}\")"
      ],
      "metadata": {
        "id": "hOPBCHO92vyc"
      },
      "execution_count": null,
      "outputs": []
    },
    {
      "cell_type": "markdown",
      "source": [],
      "metadata": {
        "id": "e_HT88Qn2q2v"
      }
    },
    {
      "cell_type": "markdown",
      "source": [
        "A smaller **CHUNK_SIZE** means it requires more requests to transfer the same amount of data, which can lead to slower transfer times. On the other hand, a larger chunk size means fewer requests are required, but it may consume more memory and cause performance issues.\n",
        "\n",
        "In general, for most applications, a CHUNK_SIZE of 1024 bytes (1 KB) or 4096 bytes (4 KB) is commonly used. However, depending on your specific application requirements, you may need to adjust the chunk size. It's always a good idea to balance between network overhead and I/O performance to optimize the performance of your application.\n"
      ],
      "metadata": {
        "id": "fmngRGi7bPR9"
      }
    },
    {
      "cell_type": "code",
      "source": [
        "API_URL = \"https://api.elevenlabs.io/v1\"\n",
        "CHUNK_SIZE = 1024"
      ],
      "metadata": {
        "id": "QF9Q1aN_a75O"
      },
      "execution_count": null,
      "outputs": []
    },
    {
      "cell_type": "markdown",
      "source": [],
      "metadata": {
        "id": "Fztw16YW5KZp"
      }
    },
    {
      "cell_type": "code",
      "source": [
        "\n",
        "def get_voices(api_key):\n",
        "    url = f\"{API_URL}/voices\"\n",
        "    headers = {\"xi-api-key\": api_key}\n",
        "    response = requests.get(url, headers=headers)\n",
        "    return response.json().get(\"data\", [])\n",
        "\n",
        "def text_to_speech(api_key, voice_id, text):\n",
        "    url = f\"{API_URL}/text-to-speech/{voice_id}\"\n",
        "    headers = {\n",
        "        \"Accept\": \"audio/mpeg\",\n",
        "        \"Content-Type\": \"application/json\",\n",
        "        \"xi-api-key\": api_key,\n",
        "    }\n",
        "    data = {\n",
        "        \"text\": text,\n",
        "        \"voice_settings\": {\n",
        "            \"stability\": 0,\n",
        "            \"similarity_boost\": 0\n",
        "        }\n",
        "    }\n",
        "    response = requests.post(url, json=data, headers=headers)\n",
        "    return response\n",
        "\n",
        "def main():\n",
        "    # Add here your <xi-api-key>\n",
        "    api_key = \"<xi-api-key>\"\n",
        "    voices = get_voices(api_key)\n",
        "\n",
        "    # Create audio_files directory in Google Drive\n",
        "    output_dir = \"/content/drive/MyDrive/audio_files\"\n",
        "    !mkdir -p \"$output_dir\"\n",
        "\n",
        "    total_dialogue = \"\"\n",
        "    with open(\"/content/drive/MyDrive/characters.txt\", \"r\") as f:\n",
        "        for line in f.readlines():\n",
        "            if \":\" in line:\n",
        "                character, dialogue = map(str.strip, line.split(\":\"))\n",
        "                total_dialogue += f\"{character}: {dialogue}\\n\"\n",
        "                \n",
        "                voice_id = None\n",
        "                \n",
        "                for v in voices:\n",
        "                    if v[\"name\"] == character:\n",
        "                        voice_id = v[\"id\"]\n",
        "                        break\n",
        "                \n",
        "                if voice_id is None:\n",
        "                    print(f\"Unknown character: {character}\")\n",
        "                    continue\n",
        "            \n",
        "            else:\n",
        "                total_dialogue += f\"{line} \"\n",
        "\n",
        "        output_file = f\"{output_dir}/all_characters.mp3\"\n",
        "                    \n",
        "        response = text_to_speech(api_key, voice_id, total_dialogue.strip())\n",
        "        \n",
        "        if response.ok:\n",
        "            with open(output_file, \"wb\") as out_f:\n",
        "                for chunk in response.iter_content(chunk_size=CHUNK_SIZE):\n",
        "                    if chunk:\n",
        "                        out_f.write(chunk)\n",
        "                print(f\"Audio saved to {output_file}\")\n",
        "        else:\n",
        "            print(f\"Failed to generate audio file: {response.text}\")\n",
        "\n",
        "if __name__ == \"__main__\":\n",
        "    main()"
      ],
      "metadata": {
        "id": "RRyRYprfa_g3"
      },
      "execution_count": null,
      "outputs": []
    },
    {
      "cell_type": "code",
      "source": [
        "from elevenlabs import Voice, VoiceDesign, Gender, Age, Accent\n",
        "\n",
        "for accent in Accent:\n",
        "  print(accent)"
      ],
      "metadata": {
        "colab": {
          "base_uri": "https://localhost:8080/"
        },
        "id": "AXa1XRSHAch2",
        "outputId": "0301c8e6-f519-4b70-dcf6-b333e52e9fd1"
      },
      "execution_count": 9,
      "outputs": [
        {
          "output_type": "stream",
          "name": "stdout",
          "text": [
            "Accent.british\n",
            "Accent.american\n",
            "Accent.african\n",
            "Accent.australian\n",
            "Accent.indian\n"
          ]
        }
      ]
    },
    {
      "cell_type": "code",
      "source": [
        "import elevenlabs\n",
        "\n",
        "print(dir(elevenlabs))"
      ],
      "metadata": {
        "colab": {
          "base_uri": "https://localhost:8080/"
        },
        "id": "aWvNPBeYMqVG",
        "outputId": "29438c28-61e8-4434-92f0-de74adb794fe"
      },
      "execution_count": 14,
      "outputs": [
        {
          "output_type": "stream",
          "name": "stdout",
          "text": [
            "['API', 'APIError', 'Accent', 'Age', 'AuthorizationError', 'BaseModel', 'Dict', 'Enum', 'FeedbackItem', 'Field', 'Gender', 'HTTPError', 'History', 'HistoryItem', 'Iterator', 'List', 'Model', 'Models', 'Optional', 'Path', 'RateLimitError', 'Subscription', 'TTS', 'Tuple', 'UnauthenticatedRateLimitError', 'UnauthorizedVoiceCloningError', 'Union', 'User', 'VOICES_CACHE', 'Voice', 'VoiceClone', 'VoiceDesign', 'VoiceSample', 'VoiceSettings', 'Voices', '__builtins__', '__cached__', '__doc__', '__file__', '__loader__', '__name__', '__package__', '__path__', '__spec__', 'annotations', 'api', 'api_base_url_v1', 'base', 'clone', 'datetime', 'error', 'generate', 'get_api_key', 'history', 'is_installed', 'is_voice_id', 'model', 'os', 'play', 're', 'requests', 'root_validator', 'save', 'set_api_key', 'shutil', 'simple', 'stream', 'subprocess', 'tts', 'user', 'utils', 'validator', 'voice', 'voices']\n"
          ]
        }
      ]
    }
  ]
}